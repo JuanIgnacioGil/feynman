{
 "cells": [
  {
   "cell_type": "code",
   "execution_count": 2,
   "metadata": {},
   "outputs": [],
   "source": [
    "import sys\n",
    "sys.path.append(\"../\")\n",
    "\n",
    "%load_ext autoreload\n",
    "%autoreload 2"
   ]
  },
  {
   "cell_type": "markdown",
   "metadata": {},
   "source": [
    "# Atoms in motion\n",
    "\n",
    "## B1\n",
    "\n",
    "You are given a large number of steel balls of equal diameter d and a container of known volume V. Every dimension of the container is much greater than the diameter of a ball. What is the greatest number of balls that can be placed in the container?"
   ]
  },
  {
   "cell_type": "code",
   "execution_count": 4,
   "metadata": {},
   "outputs": [],
   "source": [
    "import sympy as sym\n",
    "import pandas as pd\n",
    "\n",
    "from constants import AVOGADRO"
   ]
  },
  {
   "cell_type": "code",
   "execution_count": 5,
   "metadata": {},
   "outputs": [],
   "source": [
    "V, r, n = sym.symbols('V r n')"
   ]
  },
  {
   "cell_type": "markdown",
   "metadata": {},
   "source": [
    "Every single ball occupies a cube of volume $8r^3$"
   ]
  },
  {
   "cell_type": "code",
   "execution_count": 15,
   "metadata": {},
   "outputs": [
    {
     "data": {
      "text/latex": [
       "$\\displaystyle \\frac{V}{8 r^{3}}$"
      ],
      "text/plain": [
       "V/(8*r**3)"
      ]
     },
     "execution_count": 15,
     "metadata": {},
     "output_type": "execute_result"
    }
   ],
   "source": [
    "n = V / ((r * 2) ** 3)\n",
    "n"
   ]
  },
  {
   "cell_type": "markdown",
   "metadata": {},
   "source": [
    "## B2\n",
    "\n",
    "How should the pressure P of a gas vary with n, the number of atoms per unit volume, and $<v>$, the average speed of an atom? (Should P be proportional to n and/or <v>, or should it vary more, or less, rapidly than linearly?)"
   ]
  },
  {
   "cell_type": "markdown",
   "metadata": {},
   "source": [
    "As the particles are evenly distributed, the number of particles that in dt are able to crash the surface are:"
   ]
  },
  {
   "cell_type": "code",
   "execution_count": 7,
   "metadata": {},
   "outputs": [],
   "source": [
    "V, mean_v, n, dt = sym.symbols('V <v> n dt')"
   ]
  },
  {
   "cell_type": "code",
   "execution_count": 8,
   "metadata": {},
   "outputs": [
    {
     "data": {
      "text/latex": [
       "$\\displaystyle <v> n$"
      ],
      "text/plain": [
       "<v>*n"
      ]
     },
     "execution_count": 8,
     "metadata": {},
     "output_type": "execute_result"
    }
   ],
   "source": [
    "n * mean_v "
   ]
  },
  {
   "cell_type": "markdown",
   "metadata": {},
   "source": [
    "## B3\n",
    "\n",
    "Ordinary air has a density of about $0.001 g cm^{-3}$, while liquid air has a density of about $1.0 g cm^{-3}$\n",
    "\n",
    "### a)\n",
    "\n",
    "Estimate the number of air molecules per $cm^3$ in ordinary air and in liquid air"
   ]
  },
  {
   "cell_type": "code",
   "execution_count": 9,
   "metadata": {},
   "outputs": [
    {
     "data": {
      "text/html": [
       "<div>\n",
       "<style scoped>\n",
       "    .dataframe tbody tr th:only-of-type {\n",
       "        vertical-align: middle;\n",
       "    }\n",
       "\n",
       "    .dataframe tbody tr th {\n",
       "        vertical-align: top;\n",
       "    }\n",
       "\n",
       "    .dataframe thead th {\n",
       "        text-align: right;\n",
       "    }\n",
       "</style>\n",
       "<table border=\"1\" class=\"dataframe\">\n",
       "  <thead>\n",
       "    <tr style=\"text-align: right;\">\n",
       "      <th></th>\n",
       "      <th>volume</th>\n",
       "      <th>mass</th>\n",
       "    </tr>\n",
       "  </thead>\n",
       "  <tbody>\n",
       "    <tr>\n",
       "      <th>N2</th>\n",
       "      <td>0.7809</td>\n",
       "      <td>28.0134</td>\n",
       "    </tr>\n",
       "    <tr>\n",
       "      <th>O2</th>\n",
       "      <td>0.2095</td>\n",
       "      <td>31.9980</td>\n",
       "    </tr>\n",
       "    <tr>\n",
       "      <th>Ar</th>\n",
       "      <td>0.0093</td>\n",
       "      <td>39.9480</td>\n",
       "    </tr>\n",
       "    <tr>\n",
       "      <th>CO2</th>\n",
       "      <td>0.0004</td>\n",
       "      <td>44.0100</td>\n",
       "    </tr>\n",
       "    <tr>\n",
       "      <th>H2O</th>\n",
       "      <td>0.0100</td>\n",
       "      <td>20.1588</td>\n",
       "    </tr>\n",
       "  </tbody>\n",
       "</table>\n",
       "</div>"
      ],
      "text/plain": [
       "     volume     mass\n",
       "N2   0.7809  28.0134\n",
       "O2   0.2095  31.9980\n",
       "Ar   0.0093  39.9480\n",
       "CO2  0.0004  44.0100\n",
       "H2O  0.0100  20.1588"
      ]
     },
     "execution_count": 9,
     "metadata": {},
     "output_type": "execute_result"
    }
   ],
   "source": [
    "gases = ['N2', 'O2', 'Ar', 'CO2', 'H2O']\n",
    "volume = [0.7809, 0.2095, 0.0093, 0.0004, 0.01]\n",
    "mass = [28.0134, 2 * 15.999, 39.9480, 44.01, 20.1588]\n",
    "d = pd.DataFrame({'volume': volume, 'mass': mass}, index=gases)\n",
    "d"
   ]
  },
  {
   "cell_type": "code",
   "execution_count": 10,
   "metadata": {},
   "outputs": [
    {
     "data": {
      "text/plain": [
       "28.878282803682804"
      ]
     },
     "execution_count": 10,
     "metadata": {},
     "output_type": "execute_result"
    }
   ],
   "source": [
    "air_molecule_mass = (d['mass'] * d['volume']).sum() / d['volume'].sum()\n",
    "air_molecule_mass"
   ]
  },
  {
   "cell_type": "code",
   "execution_count": 11,
   "metadata": {},
   "outputs": [
    {
     "data": {
      "text/plain": [
       "(2.0853528230674457e+19, 2.0853528230674454e+22)"
      ]
     },
     "execution_count": 11,
     "metadata": {},
     "output_type": "execute_result"
    }
   ],
   "source": [
    "molecules_in_ordinary_air = 0.001 * AVOGADRO / air_molecule_mass\n",
    "molecules_in_liquid_air = 1 * AVOGADRO / air_molecule_mass\n",
    "(molecules_in_ordinary_air, molecules_in_liquid_air)"
   ]
  },
  {
   "cell_type": "markdown",
   "metadata": {},
   "source": [
    "## b)\n",
    "\n",
    "Estimate the mass of an air molecule"
   ]
  },
  {
   "cell_type": "code",
   "execution_count": 13,
   "metadata": {},
   "outputs": [
    {
     "data": {
      "text/plain": [
       "4.7953516016011716e-23"
      ]
     },
     "execution_count": 13,
     "metadata": {},
     "output_type": "execute_result"
    }
   ],
   "source": [
    "air_molecule_mass / AVOGADRO"
   ]
  },
  {
   "cell_type": "markdown",
   "metadata": {},
   "source": [
    "## c)\n",
    "Estimate the average distance an air molecule should travel between collisions at normal temperature and pressures (NTP). This distance is called the mean free path"
   ]
  },
  {
   "cell_type": "code",
   "execution_count": 20,
   "metadata": {},
   "outputs": [
    {
     "data": {
      "text/plain": [
       "4.795351601601172e-23"
      ]
     },
     "execution_count": 20,
     "metadata": {},
     "output_type": "execute_result"
    }
   ],
   "source": [
    "v_per_molecule = (1 / molecules_in_liquid_air)\n",
    "v_per_molecule"
   ]
  },
  {
   "cell_type": "code",
   "execution_count": 21,
   "metadata": {},
   "outputs": [
    {
     "data": {
      "text/plain": [
       "1.816533826959711e-08"
      ]
     },
     "execution_count": 21,
     "metadata": {},
     "output_type": "execute_result"
    }
   ],
   "source": [
    "mean_free_path = (v_per_molecule ** (1 / 3)) / 2\n",
    "mean_free_path"
   ]
  },
  {
   "cell_type": "markdown",
   "metadata": {},
   "source": [
    "## d)\n",
    "Estimate at what pressure, in normal athmospheres, a vacuum system should be operated in order that the mean free path be about one meter"
   ]
  },
  {
   "cell_type": "code",
   "execution_count": 123,
   "metadata": {},
   "outputs": [],
   "source": [
    "n, vpm, mfp = sym.symbols('n vpm mfp', real=True)"
   ]
  },
  {
   "cell_type": "code",
   "execution_count": 124,
   "metadata": {},
   "outputs": [
    {
     "data": {
      "text/latex": [
       "$\\displaystyle vpm = \\frac{1}{n}$"
      ],
      "text/plain": [
       "Eq(vpm, 1/n)"
      ]
     },
     "execution_count": 124,
     "metadata": {},
     "output_type": "execute_result"
    }
   ],
   "source": [
    "e1 = sym.Eq(vpm, 1 / n)\n",
    "e1"
   ]
  },
  {
   "cell_type": "code",
   "execution_count": 125,
   "metadata": {},
   "outputs": [
    {
     "data": {
      "text/latex": [
       "$\\displaystyle mfp = \\frac{vpm^{0.333333333333333}}{2}$"
      ],
      "text/plain": [
       "Eq(mfp, vpm**0.333333333333333/2)"
      ]
     },
     "execution_count": 125,
     "metadata": {},
     "output_type": "execute_result"
    }
   ],
   "source": [
    "e2 = sym.Eq(mfp,  vpm ** (1 / 3) / 2)\n",
    "e2"
   ]
  },
  {
   "cell_type": "code",
   "execution_count": 126,
   "metadata": {},
   "outputs": [
    {
     "data": {
      "text/latex": [
       "$\\displaystyle mfp = \\frac{\\left(\\frac{1}{n}\\right)^{0.333333333333333}}{2}$"
      ],
      "text/plain": [
       "Eq(mfp, (1/n)**0.333333333333333/2)"
      ]
     },
     "execution_count": 126,
     "metadata": {},
     "output_type": "execute_result"
    }
   ],
   "source": [
    "e3 = e2.subs(vpm, sym.solve(e1, vpm)[0])\n",
    "e3"
   ]
  },
  {
   "cell_type": "code",
   "execution_count": 127,
   "metadata": {},
   "outputs": [
    {
     "data": {
      "text/latex": [
       "$\\displaystyle n = \\frac{0.125}{mfp^{3}}$"
      ],
      "text/plain": [
       "Eq(n, 0.125/mfp**3)"
      ]
     },
     "execution_count": 127,
     "metadata": {},
     "output_type": "execute_result"
    }
   ],
   "source": [
    "e4 = sym.Eq(n, sym.solve(e3, n)[0])\n",
    "e4"
   ]
  },
  {
   "cell_type": "code",
   "execution_count": 128,
   "metadata": {},
   "outputs": [],
   "source": [
    "n2, mfp2 = sym.symbols('n2 mfp2', real=True)"
   ]
  },
  {
   "cell_type": "code",
   "execution_count": 133,
   "metadata": {},
   "outputs": [
    {
     "data": {
      "text/latex": [
       "$\\displaystyle n_{2} = \\frac{0.125}{mfp_{2}^{3}}$"
      ],
      "text/plain": [
       "Eq(n2, 0.125/mfp2**3)"
      ]
     },
     "execution_count": 133,
     "metadata": {},
     "output_type": "execute_result"
    }
   ],
   "source": [
    "e5 = e4.subs(n, n2).subs(mfp, mfp2)\n",
    "e5"
   ]
  },
  {
   "cell_type": "code",
   "execution_count": 141,
   "metadata": {},
   "outputs": [
    {
     "data": {
      "text/latex": [
       "$\\displaystyle \\frac{1.0 mfp^{3}}{mfp_{2}^{3}}$"
      ],
      "text/plain": [
       "1.0*mfp**3/mfp2**3"
      ]
     },
     "execution_count": 141,
     "metadata": {},
     "output_type": "execute_result"
    }
   ],
   "source": [
    "e6 = sym.solve(e5, n2)[0] / sym.solve(e4, n)[0]\n",
    "e6"
   ]
  },
  {
   "cell_type": "code",
   "execution_count": 142,
   "metadata": {},
   "outputs": [
    {
     "data": {
      "text/latex": [
       "$\\displaystyle 5.99418950200148 \\cdot 10^{-30}$"
      ],
      "text/plain": [
       "5.99418950200148e-30"
      ]
     },
     "execution_count": 142,
     "metadata": {},
     "output_type": "execute_result"
    }
   ],
   "source": [
    "e6.evalf(subs={mfp: 1.816533826959711e-08, mfp2: 100})"
   ]
  },
  {
   "cell_type": "code",
   "execution_count": null,
   "metadata": {},
   "outputs": [],
   "source": []
  }
 ],
 "metadata": {
  "kernelspec": {
   "display_name": "Python 3",
   "language": "python",
   "name": "python3"
  },
  "language_info": {
   "codemirror_mode": {
    "name": "ipython",
    "version": 3
   },
   "file_extension": ".py",
   "mimetype": "text/x-python",
   "name": "python",
   "nbconvert_exporter": "python",
   "pygments_lexer": "ipython3",
   "version": "3.7.0"
  }
 },
 "nbformat": 4,
 "nbformat_minor": 2
}
